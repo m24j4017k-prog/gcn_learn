{
 "cells": [
  {
   "cell_type": "code",
   "execution_count": 4,
   "metadata": {},
   "outputs": [
    {
     "name": "stdout",
     "output_type": "stream",
     "text": [
      "(2, 13)\n",
      "0.6405448717948717\n",
      "[0.63955128 0.64153846]\n",
      "0.0009935897435897068\n"
     ]
    }
   ],
   "source": [
    "# leave_pair_one_out\n",
    "import numpy as np\n",
    "import datetime\n",
    "import seaborn as sns\n",
    "\n",
    "TRY_NUM = 2\n",
    "LEAVE_PARIR_NUM = 13\n",
    "train_acc_list = np.zeros([TRY_NUM, LEAVE_PARIR_NUM])\n",
    "train_time = np.zeros([TRY_NUM, LEAVE_PARIR_NUM])\n",
    "conf_mat = np.zeros([3, 3])\n",
    "\n",
    "name = f\"leave_4_pair_out/STGCN/MB_3DP0\"\n",
    "\n",
    "for i in range(1, TRY_NUM+1):\n",
    "    for j in range(1, LEAVE_PARIR_NUM+1):\n",
    "        train_acc_list[i-1, j-1] = np.load(f\"{name}/{i}/{j}/results/val_acc.npy\").max()\n",
    "        # train_time[i-1, j-1] = np.load(f\"{name}/{i}/{j}/results/train_time.npy\")\n",
    "        \n",
    "        # conf_mat += np.load(f\"{name}/{i}/{j}/results/conf_mat.npy\")\n",
    "\n",
    "            \n",
    "# data = np.load(f\"4D/STGCN/1-1/1/results/conf_mat.npy\")\n",
    "\n",
    "# print(train_acc_list[0, 2])\n",
    "# print(conf_mat)    \n",
    "print(train_acc_list.shape)\n",
    "# print(train_acc_list)\n",
    "print(np.mean(train_acc_list))\n",
    "print(np.mean(train_acc_list, axis=1))\n",
    "print(np.std(np.mean(train_acc_list, axis=1)))     \n",
    "# print(\"time :\", datetime.timedelta(seconds=np.sum(train_time)))\n",
    "# print(np.mean(train_acc_list), np.std(train_acc_list))\n",
    "# sns.heatmap(conf_mat.astype(int), annot=True, cmap=\"Blues\", fmt=\"d\", cbar=False, annot_kws={\"fontsize\": 18})\n"
   ]
  }
 ],
 "metadata": {
  "kernelspec": {
   "display_name": "gcn_learn",
   "language": "python",
   "name": "python3"
  },
  "language_info": {
   "codemirror_mode": {
    "name": "ipython",
    "version": 3
   },
   "file_extension": ".py",
   "mimetype": "text/x-python",
   "name": "python",
   "nbconvert_exporter": "python",
   "pygments_lexer": "ipython3",
   "version": "3.10.14"
  }
 },
 "nbformat": 4,
 "nbformat_minor": 2
}
