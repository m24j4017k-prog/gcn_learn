{
 "cells": [
  {
   "cell_type": "code",
   "execution_count": 2,
   "metadata": {},
   "outputs": [
    {
     "ename": "FileNotFoundError",
     "evalue": "[Errno 2] No such file or directory: '../results/leave_4_pair_out/CTRGCN/MB_3DP0/3/1/results/val_acc.npy'",
     "output_type": "error",
     "traceback": [
      "\u001b[0;31m---------------------------------------------------------------------------\u001b[0m",
      "\u001b[0;31mFileNotFoundError\u001b[0m                         Traceback (most recent call last)",
      "Cell \u001b[0;32mIn[2], line 18\u001b[0m\n\u001b[1;32m     16\u001b[0m \u001b[38;5;28;01mfor\u001b[39;00m i \u001b[38;5;129;01min\u001b[39;00m \u001b[38;5;28mrange\u001b[39m(\u001b[38;5;241m1\u001b[39m, TRY_NUM\u001b[38;5;241m+\u001b[39m\u001b[38;5;241m1\u001b[39m):\n\u001b[1;32m     17\u001b[0m     \u001b[38;5;28;01mfor\u001b[39;00m j \u001b[38;5;129;01min\u001b[39;00m \u001b[38;5;28mrange\u001b[39m(\u001b[38;5;241m1\u001b[39m, LEAVE_PARIR_NUM\u001b[38;5;241m+\u001b[39m\u001b[38;5;241m1\u001b[39m):\n\u001b[0;32m---> 18\u001b[0m         train_acc_list[i\u001b[38;5;241m-\u001b[39m\u001b[38;5;241m1\u001b[39m, j\u001b[38;5;241m-\u001b[39m\u001b[38;5;241m1\u001b[39m] \u001b[38;5;241m=\u001b[39m \u001b[43mnp\u001b[49m\u001b[38;5;241;43m.\u001b[39;49m\u001b[43mload\u001b[49m\u001b[43m(\u001b[49m\u001b[38;5;124;43mf\u001b[39;49m\u001b[38;5;124;43m\"\u001b[39;49m\u001b[38;5;132;43;01m{\u001b[39;49;00m\u001b[43mname\u001b[49m\u001b[38;5;132;43;01m}\u001b[39;49;00m\u001b[38;5;124;43m/\u001b[39;49m\u001b[38;5;132;43;01m{\u001b[39;49;00m\u001b[43mi\u001b[49m\u001b[38;5;132;43;01m}\u001b[39;49;00m\u001b[38;5;124;43m/\u001b[39;49m\u001b[38;5;132;43;01m{\u001b[39;49;00m\u001b[43mj\u001b[49m\u001b[38;5;132;43;01m}\u001b[39;49;00m\u001b[38;5;124;43m/results/val_acc.npy\u001b[39;49m\u001b[38;5;124;43m\"\u001b[39;49m\u001b[43m)\u001b[49m\u001b[38;5;241m.\u001b[39mmax()\n\u001b[1;32m     19\u001b[0m         \u001b[38;5;66;03m# train_time[i-1, j-1] = np.load(f\"{name}/{i}/{j}/results/train_time.npy\")\u001b[39;00m\n\u001b[1;32m     20\u001b[0m         \n\u001b[1;32m     21\u001b[0m         \u001b[38;5;66;03m# conf_mat += np.load(f\"{name}/{i}/{j}/results/conf_mat.npy\")\u001b[39;00m\n\u001b[0;32m   (...)\u001b[0m\n\u001b[1;32m     26\u001b[0m \u001b[38;5;66;03m# print(train_acc_list[0, 2])\u001b[39;00m\n\u001b[1;32m     27\u001b[0m \u001b[38;5;66;03m# print(conf_mat)    \u001b[39;00m\n\u001b[1;32m     28\u001b[0m \u001b[38;5;28mprint\u001b[39m(train_acc_list\u001b[38;5;241m.\u001b[39mshape)\n",
      "File \u001b[0;32m~/anaconda3/envs/gcn_learn/lib/python3.10/site-packages/numpy/lib/npyio.py:427\u001b[0m, in \u001b[0;36mload\u001b[0;34m(file, mmap_mode, allow_pickle, fix_imports, encoding, max_header_size)\u001b[0m\n\u001b[1;32m    425\u001b[0m     own_fid \u001b[38;5;241m=\u001b[39m \u001b[38;5;28;01mFalse\u001b[39;00m\n\u001b[1;32m    426\u001b[0m \u001b[38;5;28;01melse\u001b[39;00m:\n\u001b[0;32m--> 427\u001b[0m     fid \u001b[38;5;241m=\u001b[39m stack\u001b[38;5;241m.\u001b[39menter_context(\u001b[38;5;28;43mopen\u001b[39;49m\u001b[43m(\u001b[49m\u001b[43mos_fspath\u001b[49m\u001b[43m(\u001b[49m\u001b[43mfile\u001b[49m\u001b[43m)\u001b[49m\u001b[43m,\u001b[49m\u001b[43m \u001b[49m\u001b[38;5;124;43m\"\u001b[39;49m\u001b[38;5;124;43mrb\u001b[39;49m\u001b[38;5;124;43m\"\u001b[39;49m\u001b[43m)\u001b[49m)\n\u001b[1;32m    428\u001b[0m     own_fid \u001b[38;5;241m=\u001b[39m \u001b[38;5;28;01mTrue\u001b[39;00m\n\u001b[1;32m    430\u001b[0m \u001b[38;5;66;03m# Code to distinguish from NumPy binary files and pickles.\u001b[39;00m\n",
      "\u001b[0;31mFileNotFoundError\u001b[0m: [Errno 2] No such file or directory: '../results/leave_4_pair_out/CTRGCN/MB_3DP0/3/1/results/val_acc.npy'"
     ]
    }
   ],
   "source": [
    "# leave_pair_one_out\n",
    "import numpy as np\n",
    "import datetime\n",
    "import seaborn as sns\n",
    "\n",
    "TRY_NUM = 3\n",
    "LEAVE_PARIR_NUM = 13\n",
    "train_acc_list = np.zeros([TRY_NUM, LEAVE_PARIR_NUM])\n",
    "train_time = np.zeros([TRY_NUM, LEAVE_PARIR_NUM])\n",
    "conf_mat = np.zeros([3, 3])\n",
    "\n",
    "\n",
    "\n",
    "name = f\"../results/leave_4_pair_out/CTRGCN/MB_3DP0\"\n",
    "\n",
    "for i in range(1, TRY_NUM+1):\n",
    "    for j in range(1, LEAVE_PARIR_NUM+1):\n",
    "        train_acc_list[i-1, j-1] = np.load(f\"{name}/{i}/{j}/results/val_acc.npy\").max()\n",
    "        # train_time[i-1, j-1] = np.load(f\"{name}/{i}/{j}/results/train_time.npy\")\n",
    "        \n",
    "        # conf_mat += np.load(f\"{name}/{i}/{j}/results/conf_mat.npy\")\n",
    "\n",
    "            \n",
    "# data = np.load(f\"4D/STGCN/1-1/1/results/conf_mat.npy\")\n",
    "\n",
    "# print(train_acc_list[0, 2])\n",
    "# print(conf_mat)    \n",
    "print(train_acc_list.shape)\n",
    "# print(train_acc_list)\n",
    "print(np.mean(train_acc_list))\n",
    "print(np.mean(train_acc_list, axis=1))\n",
    "print(np.std(np.mean(train_acc_list, axis=1)))     \n",
    "# print(\"time :\", datetime.timedelta(seconds=np.sum(train_time)))\n",
    "# print(np.mean(train_acc_list), np.std(train_acc_list))\n",
    "# sns.heatmap(conf_mat.astype(int), annot=True, cmap=\"Blues\", fmt=\"d\", cbar=False, annot_kws={\"fontsize\": 18})\n"
   ]
  }
 ],
 "metadata": {
  "kernelspec": {
   "display_name": "gcn_learn",
   "language": "python",
   "name": "python3"
  },
  "language_info": {
   "codemirror_mode": {
    "name": "ipython",
    "version": 3
   },
   "file_extension": ".py",
   "mimetype": "text/x-python",
   "name": "python",
   "nbconvert_exporter": "python",
   "pygments_lexer": "ipython3",
   "version": "3.10.14"
  }
 },
 "nbformat": 4,
 "nbformat_minor": 2
}
