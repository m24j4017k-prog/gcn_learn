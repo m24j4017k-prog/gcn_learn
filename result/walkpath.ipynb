{
 "cells": [
  {
   "cell_type": "code",
   "execution_count": 6,
   "metadata": {},
   "outputs": [
    {
     "name": "stdout",
     "output_type": "stream",
     "text": [
      "同経路　　 : 68.58974358974359 ±13.267859873855295\n",
      "同経路以外 : 38.09152421652421 ±7.52513937133762\n"
     ]
    }
   ],
   "source": [
    "import numpy as np\n",
    "import datetime\n",
    "import seaborn as sns\n",
    "\n",
    "WALK_PATH_NUM = 4\n",
    "TRY_NUM = 3\n",
    "LEAVE_PARIR_NUM = 4\n",
    "val_acc = np.zeros([WALK_PATH_NUM, WALK_PATH_NUM, TRY_NUM, 52 // LEAVE_PARIR_NUM])\n",
    "same_train_acc_list = np.zeros([WALK_PATH_NUM, TRY_NUM, 52 // LEAVE_PARIR_NUM])\n",
    "diff_train_acc_list = np.zeros([WALK_PATH_NUM, WALK_PATH_NUM-1, TRY_NUM, 52 // LEAVE_PARIR_NUM])\n",
    "\n",
    "name = f\"../results/walkpath/STGCN/MB_3DP0\"\n",
    "for k in range(TRY_NUM):\n",
    "    for i in range(4):\n",
    "        for j in range(4):\n",
    "            for l in range(52 // LEAVE_PARIR_NUM):\n",
    "                val_acc[i, j, k, l] = np.load(f\"{name}/{k+1}/test/{i+1}-{j+1}/{l*LEAVE_PARIR_NUM+1}-{(l+1)*LEAVE_PARIR_NUM}/val_acc.npy\")\n",
    "                \n",
    "\n",
    "for i in range(4):\n",
    "    idx = 0\n",
    "    a_idx = 0\n",
    "    for j in range(4):\n",
    "        if i == j:\n",
    "            for k in range(TRY_NUM):\n",
    "                for l in range(52 // LEAVE_PARIR_NUM):\n",
    "                        same_train_acc_list[i, k, l] = val_acc[i, j, k, l]\n",
    "        else:\n",
    "            for k in range(TRY_NUM):\n",
    "                for l in range(52 // LEAVE_PARIR_NUM):\n",
    "                    diff_train_acc_list[i, idx, k, l] = val_acc[i, j, k, l]\n",
    "            idx += 1\n",
    "                    \n",
    "print(f\"同経路　　 :\", np.mean(same_train_acc_list)*100, f\"±{np.std(same_train_acc_list)*100}\")\n",
    "print(f\"同経路以外 :\", np.mean(diff_train_acc_list)*100, f\"±{np.std(diff_train_acc_list)*100}\")"
   ]
  },
  {
   "cell_type": "code",
   "execution_count": 1,
   "metadata": {},
   "outputs": [
    {
     "name": "stdout",
     "output_type": "stream",
     "text": [
      "0 同経路以外 : 37.71509971509971 ±7.8042151365745385\n"
     ]
    }
   ],
   "source": [
    "import numpy as np\n",
    "import datetime\n",
    "import seaborn as sns\n",
    "\n",
    "for gg in('0'):\n",
    "    WALK_PATH_NUM = 4\n",
    "    TRY_NUM = 3\n",
    "    LEAVE_PARIR_NUM = 4\n",
    "    val_acc = np.zeros([WALK_PATH_NUM, WALK_PATH_NUM, TRY_NUM, 52 // LEAVE_PARIR_NUM])\n",
    "    same_train_acc_list = np.zeros([WALK_PATH_NUM, TRY_NUM, 52 // LEAVE_PARIR_NUM])\n",
    "    diff_train_acc_list = np.zeros([WALK_PATH_NUM, WALK_PATH_NUM-1, TRY_NUM, 52 // LEAVE_PARIR_NUM])\n",
    "\n",
    "    name = f\"walk_path_leave_pair/{LEAVE_PARIR_NUM}/STGCN/AUG{gg}/test\"\n",
    "\n",
    "    for i in range(4):\n",
    "        for j in range(4):\n",
    "            for k in range(TRY_NUM):\n",
    "                for l in range(52 // LEAVE_PARIR_NUM):\n",
    "                    val_acc[i, j, k, l] = np.load(f\"{name}/{i+1}-{j+1}/{k+1}/{l*LEAVE_PARIR_NUM+1}-{(l+1)*LEAVE_PARIR_NUM}/results/val_acc.npy\")\n",
    "                    \n",
    "\n",
    "    for i in range(4):\n",
    "        idx = 0\n",
    "        a_idx = 0\n",
    "        for j in range(4):\n",
    "            if i == j:\n",
    "                for k in range(TRY_NUM):\n",
    "                    for l in range(52 // LEAVE_PARIR_NUM):\n",
    "                            same_train_acc_list[i, k, l] = val_acc[i, j, k, l]\n",
    "            else:\n",
    "                for k in range(TRY_NUM):\n",
    "                    for l in range(52 // LEAVE_PARIR_NUM):\n",
    "                        diff_train_acc_list[i, idx, k, l] = val_acc[i, j, k, l]\n",
    "                idx += 1\n",
    "                        \n",
    "            \n",
    "    print(f\"{gg} 同経路以外 :\", np.mean(diff_train_acc_list)*100, f\"±{np.std(diff_train_acc_list)*100}\")"
   ]
  }
 ],
 "metadata": {
  "kernelspec": {
   "display_name": "gcn_learn",
   "language": "python",
   "name": "python3"
  },
  "language_info": {
   "codemirror_mode": {
    "name": "ipython",
    "version": 3
   },
   "file_extension": ".py",
   "mimetype": "text/x-python",
   "name": "python",
   "nbconvert_exporter": "python",
   "pygments_lexer": "ipython3",
   "version": "3.10.14"
  }
 },
 "nbformat": 4,
 "nbformat_minor": 2
}
